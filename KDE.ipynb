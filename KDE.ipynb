{
 "cells": [
  {
   "cell_type": "code",
   "execution_count": 1,
   "id": "79bdaebf-8dc3-4893-8f3e-78efebc276af",
   "metadata": {},
   "outputs": [],
   "source": [
    "# from sklearn.neighbors import KernelDensity\n",
    "# import numpy as np\n",
    "# import matplotlib.pyplot as plt\n",
    "# from pylab import *\n",
    "# plt.rcParams['font.sans-serif'] = ['SimHei']  #显示中文\n",
    "# plt.rcParams['axes.unicode_minus']=False #用来正常显示负号\n",
    "# import scipy.stats as stt\n",
    "\n",
    "# X = np.array([1,1,5,6,3,2,3.2,5,2,2.5,4.9,5.6,2.7,1.6,2.4,5.3,3.6,9.8,5.4]).reshape(-1,1)\n"
   ]
  },
  {
   "cell_type": "code",
   "execution_count": null,
   "id": "82da86d0-78a6-439b-a834-0f83ce4ea5c9",
   "metadata": {},
   "outputs": [],
   "source": []
  },
  {
   "cell_type": "code",
   "execution_count": 2,
   "id": "1015be94-c70d-47d9-a267-48ea5bea6f4f",
   "metadata": {},
   "outputs": [],
   "source": [
    "# X = np.array([1,1,5,6,3,2,3.2,5,2,2.5,4.9,5.6,2.7,1.6,2.4,5.3,3.6,9.8,5.4]).reshape(-1,1)\n",
    "# kde = KernelDensity(kernel='gaussian', bandwidth=0.75).fit(X)\n",
    "# X_plot = np.linspace(-5, 15, 1000)\n",
    "# log_dens = kde.score_samples(X_plot.reshape(-1,1))#返回的是点x对应概率的log值，要使用exp求指数还原。\n",
    "# plt.fill_between(X_plot,0, np.exp(log_dens), fc='#AAAAFF')#fill就是用来画概率密度的"
   ]
  },
  {
   "cell_type": "code",
   "execution_count": 3,
   "id": "4d61fd38-8a5b-4001-b503-df8a70df5a70",
   "metadata": {},
   "outputs": [],
   "source": [
    "# import numpy as np\n",
    "# import matplotlib.pyplot as plt\n",
    "# from pylab import *\n",
    "# plt.rcParams['font.sans-serif'] = ['SimHei']  #显示中文\n",
    "# plt.rcParams['axes.unicode_minus']=False #用来正常显示负号\n",
    "# import scipy.stats as st\n",
    "\n",
    "\n",
    "# X = np.squeeze(data[106])  # 转化为1D array\n",
    "# scipy_kde = st.gaussian_kde(X,'scott')  # 高斯核密度估计\n",
    "\n",
    "\n",
    "# X_plot = np.linspace(-110, 250, 10000)\n",
    "# dens = scipy_kde.evaluate(X_plot)\n",
    "\n",
    "# plt.plot(X_plot, dens, c='green', label='核密度值')\n",
    "\n",
    "\n",
    "# plt.tick_params(labelsize = 20)  # 设置坐标刻度值的大小      \n",
    "# font = {'size': 20}  # 设置横纵坐标的名称以及对应字体格式、大小\n",
    "# plt.xlabel('变量', font)\n",
    "# plt.ylabel('概率密度函数', font)\n",
    "# plt.legend(fontsize = 15)  # 显示图例,设置图例字体大小\n",
    "# plt.show()\n"
   ]
  },
  {
   "cell_type": "code",
   "execution_count": 4,
   "id": "2fb21283-6a90-4ca0-8f3c-1870c07f4ad8",
   "metadata": {},
   "outputs": [],
   "source": [
    "# '''画累积概率分布曲线'''\n",
    "# plt.figure(figsize = (10, 8))\n",
    "# X_integrate = []  # 存放所有点的累积概率\n",
    "# X_integrate.append(0)  # 第一个值是0\n",
    "# point = 0  # 存放单个累积概率\n",
    "# for i in range(1, len(X_plot)):\n",
    "#     point = point + scipy_kde.integrate_box_1d(X_plot[i-1], X_plot[i])  # scipy_kde.integrate_box_1d()函数的作用是计算两个边界之间的一维概率密度函数的积分，实质上得到的是概率值\n",
    "#     X_integrate.append(point)\n",
    "# plt.plot(X_plot, X_integrate, c='blue', label='累积概率')\n",
    "# plt.tick_params(labelsize = 20)   \n",
    "# font = {'size': 20}\n",
    "# plt.xlabel('变量', font)\n",
    "# plt.ylabel('概率分布函数', font)\n",
    "# plt.legend(fontsize = 15)\n",
    "# plt.show()\n"
   ]
  },
  {
   "cell_type": "code",
   "execution_count": 5,
   "id": "435d6f6d-8a3c-4413-9383-699a6d3d8391",
   "metadata": {},
   "outputs": [],
   "source": [
    "# plt.plot(X_plot, a, c='blue', label='累积概率')\n",
    "# plt.tick_params(labelsize = 20)   \n",
    "# font = {'size': 20}\n",
    "# plt.xlabel('变量', font)\n",
    "# plt.ylabel('概率分布函数', font)\n",
    "# plt.legend(fontsize = 15)\n",
    "# plt.show()"
   ]
  },
  {
   "cell_type": "code",
   "execution_count": null,
   "id": "fea4245b-5b57-4504-af6f-35f3e6be949e",
   "metadata": {},
   "outputs": [],
   "source": []
  },
  {
   "cell_type": "code",
   "execution_count": 6,
   "id": "a8f6236f-28bb-45d7-9d42-8ed2e7fadd02",
   "metadata": {},
   "outputs": [],
   "source": [
    "from sklearn.neighbors import KernelDensity\n",
    "import numpy as np\n",
    "import matplotlib.pyplot as plt\n",
    "from pylab import *\n",
    "plt.rcParams['font.sans-serif'] = ['SimHei']  #显示中文\n",
    "plt.rcParams['axes.unicode_minus']=False #用来正常显示负号\n",
    "import scipy.stats as st\n",
    "import pandas as pd"
   ]
  },
  {
   "cell_type": "code",
   "execution_count": 56,
   "id": "b0decc1b-5740-4066-b79d-082303f3df58",
   "metadata": {},
   "outputs": [],
   "source": [
    "def inver_cdf(X, bandwidth='scott'):\n",
    "    X = np.array(X)\n",
    "    scipy_kde = st.gaussian_kde(X,bandwidth)\n",
    "    X_plot = np.linspace(-150, 250, 15000)\n",
    "    X_integrate = []  # 存放所有点的累积概率\n",
    "    X_integrate.append(0)  # 第一个值是0\n",
    "    point = 0  # 存放单个累积概率\n",
    "    for i in range(1, len(X_plot)):\n",
    "        point = point + scipy_kde.integrate_box_1d(X_plot[i-1], X_plot[i])  # scipy_kde.integrate_box_1d()函数的作用是计算两个边界之间的一维概率密度函数的积分，实质上得到的是概率值\n",
    "        X_integrate.append(point)\n",
    "    return X_integrate"
   ]
  },
  {
   "cell_type": "code",
   "execution_count": 57,
   "id": "6bdb0275-8096-41f3-b422-a3ed42043939",
   "metadata": {},
   "outputs": [],
   "source": [
    "elements = ['CEEMD-WPD-LSTM-Transformer','TRUE','e']\n",
    "\n",
    "df = pd.read_csv( r'C:\\Users\\Daniel\\OneDrive\\桌面\\result.csv',delimiter=',',usecols=elements)"
   ]
  },
  {
   "cell_type": "code",
   "execution_count": 58,
   "id": "ec46a1bb-38fb-4237-bb11-d4782c45def9",
   "metadata": {},
   "outputs": [
    {
     "data": {
      "text/plain": [
       "350"
      ]
     },
     "execution_count": 58,
     "metadata": {},
     "output_type": "execute_result"
    }
   ],
   "source": [
    "len(df)"
   ]
  },
  {
   "cell_type": "code",
   "execution_count": 59,
   "id": "9b43e2b5-3cc5-4096-8c7d-4971da570baa",
   "metadata": {},
   "outputs": [],
   "source": [
    "X = df['e'].values.reshape(-1,1)\n",
    "X_plot = np.linspace(-150, 250, 15000)"
   ]
  },
  {
   "cell_type": "code",
   "execution_count": 60,
   "id": "0a8fa9d2-6b4e-4fcc-bad7-06a9a406d70e",
   "metadata": {},
   "outputs": [],
   "source": [
    "def split_data_st(data,n):\n",
    "    in_,out_=[],[]\n",
    "    n_samples=len(data)-n\n",
    "    for i in range(n_samples):\n",
    "        in_.append(data[i:i+n,:])\n",
    "    input_data=np.array(in_).reshape(len(in_),-1)\n",
    "    return input_data"
   ]
  },
  {
   "cell_type": "code",
   "execution_count": 61,
   "id": "3698a0fd-bfff-43dc-8c87-8c89f4f531db",
   "metadata": {},
   "outputs": [],
   "source": [
    "data = split_data_st(X,5)\n",
    "lower_bound = []\n",
    "Upper_bound = []"
   ]
  },
  {
   "cell_type": "code",
   "execution_count": 62,
   "id": "cf847ad5-6f95-494a-8ca8-a4a44ee72b16",
   "metadata": {},
   "outputs": [],
   "source": [
    "for i in range(data.shape[0]):\n",
    "    cdf = inver_cdf(data[i])\n",
    "    for j in range(len(cdf)):\n",
    "        if cdf[j]>0.25:\n",
    "            lower_bound.append(X_plot[j])\n",
    "            break"
   ]
  },
  {
   "cell_type": "code",
   "execution_count": 63,
   "id": "dc6eba14-b107-4487-b89b-91ef7d574b01",
   "metadata": {},
   "outputs": [],
   "source": [
    "for i in range(data.shape[0]):\n",
    "    cdf = inver_cdf(data[i])\n",
    "    for j in range(len(cdf)):\n",
    "        if cdf[j]>0.75:\n",
    "            Upper_bound.append(X_plot[j])\n",
    "            break"
   ]
  },
  {
   "cell_type": "code",
   "execution_count": 64,
   "id": "b80e74a4-f9c9-45d4-a0c7-38ddfb27745a",
   "metadata": {},
   "outputs": [],
   "source": [
    "# 准备数据\n",
    "data = np.array(lower_bound).reshape(-1,1)\n",
    "data_df = pd.DataFrame(data)   #关键1，将ndarray格式转换为DataFrame\n",
    "\n",
    "# 更改表的索引\n",
    "data_df.columns = ['lower_bound']  \n",
    "\n",
    "# 将文件写入excel表格中\n",
    "writer = pd.ExcelWriter('lower_bound.xlsx')  #关键2，创建名称为hhh的excel表格\n",
    "data_df.to_excel(writer,'page_1',float_format='%.5f')  #关键3，float_format 控制精度，将data_df写到hhh表格的第一页中。若多个文件，可以在page_2中写入\n",
    "writer.save()  #关键4"
   ]
  },
  {
   "cell_type": "code",
   "execution_count": 65,
   "id": "f7f3461b-c645-4277-a567-d6f637273eac",
   "metadata": {},
   "outputs": [],
   "source": [
    "# 准备数据\n",
    "data = np.array(Upper_bound).reshape(-1,1)\n",
    "data_df = pd.DataFrame(data)   #关键1，将ndarray格式转换为DataFrame\n",
    "\n",
    "# 更改表的索引\n",
    "data_df.columns = ['Upper_bound']  \n",
    "\n",
    "# 将文件写入excel表格中\n",
    "writer = pd.ExcelWriter('Upper_bound.xlsx')  #关键2，创建名称为hhh的excel表格\n",
    "data_df.to_excel(writer,'page_1',float_format='%.5f')  #关键3，float_format 控制精度，将data_df写到hhh表格的第一页中。若多个文件，可以在page_2中写入\n",
    "writer.save()  #关键4"
   ]
  },
  {
   "cell_type": "code",
   "execution_count": 66,
   "id": "83d3bca3-262d-4ebf-93eb-785fb996d94a",
   "metadata": {},
   "outputs": [
    {
     "data": {
      "text/plain": [
       "345"
      ]
     },
     "execution_count": 66,
     "metadata": {},
     "output_type": "execute_result"
    }
   ],
   "source": [
    "len(lower_bound)"
   ]
  },
  {
   "cell_type": "code",
   "execution_count": 67,
   "id": "2bdeb88c-c224-420d-a88a-2c7529dc16d8",
   "metadata": {},
   "outputs": [
    {
     "data": {
      "text/plain": [
       "345"
      ]
     },
     "execution_count": 67,
     "metadata": {},
     "output_type": "execute_result"
    }
   ],
   "source": [
    "len(Upper_bound)"
   ]
  },
  {
   "cell_type": "code",
   "execution_count": 19,
   "id": "1b1209cc-44f2-4b5c-b7f1-b72cd49a3952",
   "metadata": {},
   "outputs": [
    {
     "data": {
      "text/plain": [
       "array([59.73331555])"
      ]
     },
     "execution_count": 19,
     "metadata": {},
     "output_type": "execute_result"
    }
   ],
   "source": [
    "data[106]"
   ]
  },
  {
   "cell_type": "code",
   "execution_count": null,
   "id": "8656793e-ca41-4cd4-99cf-846253451789",
   "metadata": {},
   "outputs": [],
   "source": []
  },
  {
   "cell_type": "code",
   "execution_count": null,
   "id": "11e96135-7497-4b4d-b771-a4a83ad391de",
   "metadata": {},
   "outputs": [],
   "source": []
  }
 ],
 "metadata": {
  "kernelspec": {
   "display_name": "Python 3",
   "language": "python",
   "name": "python3"
  },
  "language_info": {
   "codemirror_mode": {
    "name": "ipython",
    "version": 3
   },
   "file_extension": ".py",
   "mimetype": "text/x-python",
   "name": "python",
   "nbconvert_exporter": "python",
   "pygments_lexer": "ipython3",
   "version": "3.8.8"
  }
 },
 "nbformat": 4,
 "nbformat_minor": 5
}
