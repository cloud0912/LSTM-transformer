{
 "cells": [
  {
   "cell_type": "markdown",
   "metadata": {
    "colab_type": "text",
    "id": "oinEVakH0mez"
   },
   "source": [
    "## Stock Prediction model with Tensorflow 2.0! \n",
    "\n",
    "We're going to predict prices of General Electric's stock using a Transformer neural network"
   ]
  },
  {
   "cell_type": "markdown",
   "metadata": {
    "colab_type": "text",
    "id": "7zz46GEL0wKq"
   },
   "source": [
    "## Step 1 - Import data"
   ]
  },
  {
   "cell_type": "code",
   "execution_count": 1,
   "metadata": {},
   "outputs": [],
   "source": [
    "# https://www.kaggle.com/shujian/transformer-with-lstm\n",
    "\n",
    "import random, os, sys\n",
    "import seaborn as sns\n",
    "import numpy as np\n",
    "from tensorflow.keras.models import *\n",
    "from tensorflow.keras.layers import *\n",
    "from tensorflow.keras.callbacks import *\n",
    "from tensorflow.keras.initializers import *\n",
    "from tensorflow.keras import backend as K\n",
    "import tensorflow as tf\n",
    "tf.compat.v1.enable_eager_execution() \n",
    "if tf.executing_eagerly():\n",
    "    tf.compat.v1.disable_eager_execution()\n",
    "from tensorflow.python.keras.layers import Layer\n",
    "\n",
    "try:\n",
    "    from dataloader import TokenList, pad_to_longest\n",
    "except: pass"
   ]
  },
  {
   "cell_type": "code",
   "execution_count": 2,
   "metadata": {
    "colab": {},
    "colab_type": "code",
    "id": "auGCuaVcxais"
   },
   "outputs": [],
   "source": [
    "import numpy as np\n",
    "import matplotlib.pyplot as plt\n",
    "import pandas as pd\n",
    "import os \n",
    "from sklearn.preprocessing import MinMaxScaler\n",
    "from sklearn.preprocessing import StandardScaler"
   ]
  },
  {
   "cell_type": "code",
   "execution_count": 3,
   "metadata": {
    "colab": {},
    "colab_type": "code",
    "id": "mpx4tUy7xaiu"
   },
   "outputs": [],
   "source": [
    "# I got it from https://finance.yahoo.com/quote/%5EGSPC/history?p=%5EGSPC\n",
    "\n",
    "elements = ['len','open','high','low','volume','ema12','ema26','dif','dea','macd','ma5','ma20','va5','va20','ROC','CCI','OBV','RSI','WILLR','MOM','talib_K','talib_D','talib_J','white_noise','IMF1','IMF2','IMF3']\n",
    "\n",
    "elements = ['dif','ema12','ema26','high','open','new_IMF9']\n",
    "\n",
    "df = pd.read_csv( r'C:\\Users\\Daniel\\OneDrive\\桌面\\data1.csv',delimiter=',',usecols=elements)\n",
    "# elements = ['len','ema12','ema26','OBV','open','IMF7']\n",
    "\n",
    "# pa = pd.read_csv( r'C:\\Users\\Daniel\\OneDrive\\桌面\\data1.csv',delimiter=',',usecols=elements)\n",
    "# df['IMF10'] = pa['IMF5']/10 +df['IMF10']"
   ]
  },
  {
   "cell_type": "code",
   "execution_count": 4,
   "metadata": {},
   "outputs": [
    {
     "data": {
      "text/plain": [
       "6"
      ]
     },
     "execution_count": 4,
     "metadata": {},
     "output_type": "execute_result"
    }
   ],
   "source": [
    "len(elements)"
   ]
  },
  {
   "cell_type": "markdown",
   "metadata": {
    "colab_type": "text",
    "id": "RxMRaOzn1kE6"
   },
   "source": [
    "## Step 2 - Data preprocessing "
   ]
  },
  {
   "cell_type": "code",
   "execution_count": 5,
   "metadata": {
    "colab": {},
    "colab_type": "code",
    "id": "b6Wab9Tjxai6"
   },
   "outputs": [],
   "source": [
    "SEQ_LEN = 5  # how long of a preceeding sequence to collect for RNN\n",
    "FUTURE_PERIOD_PREDICT = 1  # how far into the future are we trying to predict?"
   ]
  },
  {
   "cell_type": "code",
   "execution_count": 6,
   "metadata": {
    "colab": {},
    "colab_type": "code",
    "id": "RAFn8wq_xajI"
   },
   "outputs": [],
   "source": [
    "# 划分训练集 验证集 测试集\n",
    "\n",
    "times = sorted(df.index.values)  # get the times\n",
    "last_10pct = sorted(df.index.values)[-int(0.05*len(times))]  # get the last 10% of the times\n",
    "last_20pct = sorted(df.index.values)[-int(0.1*len(times))]  # get the last 20% of the times\n",
    "\n",
    "test_df = df[(df.index >= last_10pct)]\n",
    "validation_df = df[(df.index >= last_20pct) & (df.index < last_10pct)]  \n",
    "train_df = df[(df.index < last_20pct)]  # now the train_df is all the data up to the last 20%"
   ]
  },
  {
   "cell_type": "code",
   "execution_count": 7,
   "metadata": {
    "colab": {},
    "colab_type": "code",
    "id": "7YjKCnx9xajJ"
   },
   "outputs": [],
   "source": [
    "from collections import deque\n",
    "import numpy as np\n",
    "import random"
   ]
  },
  {
   "cell_type": "code",
   "execution_count": 8,
   "metadata": {
    "colab": {
     "base_uri": "https://localhost:8080/",
     "height": 119
    },
    "colab_type": "code",
    "id": "zwGJhffJxajR",
    "outputId": "8b0ed3fd-e5dc-4e29-f694-2216c4b34dbb"
   },
   "outputs": [],
   "source": [
    "train_data = train_df.values\n",
    "valid_data = validation_df.values\n",
    "test_data = test_df.values"
   ]
  },
  {
   "cell_type": "code",
   "execution_count": 9,
   "metadata": {},
   "outputs": [
    {
     "data": {
      "text/plain": [
       "(6602, 6)"
      ]
     },
     "execution_count": 9,
     "metadata": {},
     "output_type": "execute_result"
    }
   ],
   "source": [
    "train_data.shape"
   ]
  },
  {
   "cell_type": "code",
   "execution_count": 10,
   "metadata": {},
   "outputs": [],
   "source": [
    "#尝试添加噪声\n",
    "# train_data[:,-1] = train_data[:,-1]+np.array(pa['IMF7'][0:6602])/3\n",
    "# train_data[:,-1] = train_data[:,-1]+100*np.sin(np.linspace(1, 6602, 6602)/100)\n",
    "# valid_data[:,-1] = valid_data[:,-1]+ 50*np.sin(np.linspace(1, 367, 367)/200)\n",
    "# test_data[:,-1] = test_data[:,-1]+ 50*np.sin(np.linspace(1, 366, 366)/100)"
   ]
  },
  {
   "cell_type": "code",
   "execution_count": 11,
   "metadata": {},
   "outputs": [],
   "source": [
    "yy_train = train_data[:,-1].copy().reshape(-1,1)"
   ]
  },
  {
   "cell_type": "code",
   "execution_count": 12,
   "metadata": {},
   "outputs": [
    {
     "data": {
      "text/plain": [
       "array([[-722.68015],\n",
       "       [-722.79895],\n",
       "       [-722.91822],\n",
       "       ...,\n",
       "       [ 284.13645],\n",
       "       [ 284.51026],\n",
       "       [ 284.88297]])"
      ]
     },
     "execution_count": 12,
     "metadata": {},
     "output_type": "execute_result"
    }
   ],
   "source": [
    "yy_train"
   ]
  },
  {
   "cell_type": "code",
   "execution_count": 13,
   "metadata": {},
   "outputs": [
    {
     "data": {
      "text/plain": [
       "(6602, 6)"
      ]
     },
     "execution_count": 13,
     "metadata": {},
     "output_type": "execute_result"
    }
   ],
   "source": [
    "train_data.shape"
   ]
  },
  {
   "cell_type": "code",
   "execution_count": 14,
   "metadata": {
    "colab": {},
    "colab_type": "code",
    "id": "X4kEiHRbxajX"
   },
   "outputs": [],
   "source": [
    "scaler = MinMaxScaler()\n",
    "# scaler = StandardScaler()"
   ]
  },
  {
   "cell_type": "code",
   "execution_count": 15,
   "metadata": {},
   "outputs": [],
   "source": [
    "# ss_Y = StandardScaler()\n",
    "ss_Y = MinMaxScaler()"
   ]
  },
  {
   "cell_type": "code",
   "execution_count": 16,
   "metadata": {},
   "outputs": [
    {
     "data": {
      "text/plain": [
       "array([[-722.68015],\n",
       "       [-722.79895],\n",
       "       [-722.91822],\n",
       "       ...,\n",
       "       [ 284.13645],\n",
       "       [ 284.51026],\n",
       "       [ 284.88297]])"
      ]
     },
     "execution_count": 16,
     "metadata": {},
     "output_type": "execute_result"
    }
   ],
   "source": [
    "yy_train"
   ]
  },
  {
   "cell_type": "code",
   "execution_count": 17,
   "metadata": {},
   "outputs": [],
   "source": [
    "# Train the Scaler with training data and smooth data\n",
    "smoothing_window_size =1\n",
    "for di in range(0,2,smoothing_window_size):\n",
    "    scaler.fit(train_data[di:di+smoothing_window_size,:])\n",
    "    train_data[di:di+smoothing_window_size,:] = scaler.transform(train_data[di:di+smoothing_window_size,:])\n",
    "\n",
    "if len(train_data[di+smoothing_window_size:,:]) > 0:\n",
    "    # You normalize the last bit of remaining data\n",
    "    scaler.fit(train_data[di+smoothing_window_size:,0:5])\n",
    "    train_data[di+smoothing_window_size:,0:5] = scaler.transform(train_data[di+smoothing_window_size:,0:5])\n",
    "    ss_Y.fit(train_data[di+smoothing_window_size:,-1].reshape(-1,1))\n",
    "    train_data[di+smoothing_window_size:,-1] = ss_Y.transform(train_data[di+smoothing_window_size:,-1].reshape(-1,1)).flatten()"
   ]
  },
  {
   "cell_type": "code",
   "execution_count": 18,
   "metadata": {},
   "outputs": [],
   "source": [
    "#valid_data,test_data"
   ]
  },
  {
   "cell_type": "code",
   "execution_count": 19,
   "metadata": {},
   "outputs": [],
   "source": [
    "# Normalize test data and validation data\n",
    "valid_data1 = scaler.transform(valid_data[:,0:5])\n",
    "test_data1 = scaler.transform(test_data[:,0:5])\n",
    "valid_data2 = ss_Y.transform(valid_data[:,-1].reshape(-1,1)).flatten()\n",
    "test_data2 = ss_Y.transform(test_data[:,-1].reshape(-1,1)).flatten()\n",
    "\n",
    "valid_data[:,0:5] = valid_data1\n",
    "valid_data[:,-1] = valid_data2\n",
    "test_data[:,0:5] = test_data1\n",
    "test_data[:,-1] = test_data2"
   ]
  },
  {
   "cell_type": "code",
   "execution_count": 20,
   "metadata": {},
   "outputs": [],
   "source": [
    "# train_data = np.log(train_data)/np.log(10)\n",
    "# valid_data = np.log(valid_data)/np.log(10)\n",
    "# test_data = np.log(test_data)/np.log(10)"
   ]
  },
  {
   "cell_type": "code",
   "execution_count": 21,
   "metadata": {},
   "outputs": [],
   "source": [
    "#valid_data,test_data"
   ]
  },
  {
   "cell_type": "code",
   "execution_count": 22,
   "metadata": {},
   "outputs": [],
   "source": [
    "X_train, y_train = [], []\n",
    "n_samples = train_data.shape[0] - SEQ_LEN\n",
    "for i in range(n_samples):  # 构造滑动窗口\n",
    "    X_train.append(train_data[i:i + SEQ_LEN, :])\n",
    "    y_train.append(train_data[i + SEQ_LEN, -1])\n",
    "X_train = np.array(X_train)\n",
    "y_train = np.array(y_train)"
   ]
  },
  {
   "cell_type": "code",
   "execution_count": 23,
   "metadata": {},
   "outputs": [],
   "source": [
    "X_valid, y_valid = [], []\n",
    "n_samples = valid_data.shape[0] - SEQ_LEN\n",
    "for i in range(n_samples):  # 构造滑动窗口\n",
    "    X_valid.append(valid_data[i:i + SEQ_LEN, :])\n",
    "    y_valid.append(valid_data[i + SEQ_LEN, -1])\n",
    "X_valid = np.array(X_valid)\n",
    "y_valid = np.array(y_valid)"
   ]
  },
  {
   "cell_type": "code",
   "execution_count": 24,
   "metadata": {},
   "outputs": [],
   "source": [
    "X_test, y_test = [], []\n",
    "n_samples = test_data.shape[0] - SEQ_LEN\n",
    "for i in range(n_samples):  # 构造滑动窗口\n",
    "    X_test.append(test_data[i:i + SEQ_LEN, :])\n",
    "    y_test.append(test_data[i + SEQ_LEN, -1])\n",
    "X_test = np.array(X_test)\n",
    "y_test = np.array(y_test)"
   ]
  },
  {
   "cell_type": "code",
   "execution_count": 25,
   "metadata": {},
   "outputs": [
    {
     "data": {
      "image/png": "[encoded data removed]",
      "text/plain": [
       "<Figure size 2160x720 with 1 Axes>"
      ]
     },
     "metadata": {
      "needs_background": "light"
     },
     "output_type": "display_data"
    }
   ],
   "source": [
    "## show predictions\n",
    "plt.figure(figsize=(30, 10))\n",
    "\n",
    "plt.plot(np.arange(y_train.shape[0]), y_train, color='blue', label='train target')\n",
    "\n",
    "plt.plot(np.arange(y_train.shape[0], y_train.shape[0]+y_valid.shape[0]), y_valid,\n",
    "         color='gray', label='valid target')\n",
    "\n",
    "plt.plot(np.arange(y_train.shape[0]+y_valid.shape[0],\n",
    "                   y_train.shape[0]+y_valid.shape[0]+y_test.shape[0]),\n",
    "         y_test, color='black', label='test target')\n",
    "\n",
    "\n",
    "plt.title('Séparation des données')\n",
    "plt.xlabel('time [days]')\n",
    "plt.ylabel('normalized price')\n",
    "plt.legend(loc='best');"
   ]
  },
  {
   "cell_type": "code",
   "execution_count": 26,
   "metadata": {
    "colab": {},
    "colab_type": "code",
    "id": "1zmC7ko9xajt"
   },
   "outputs": [],
   "source": [
    "# from sklearn.utils import shuffle\n",
    "# X_train, y_train = shuffle(X_train, y_train)"
   ]
  },
  {
   "cell_type": "code",
   "execution_count": 27,
   "metadata": {
    "colab": {},
    "colab_type": "code",
    "id": "Rf4iY4xOxajx"
   },
   "outputs": [],
   "source": [
    "EPOCHS = 100  # how many passes through our data\n",
    "BATCH_SIZE = 512  # how many batches? Try smaller batch if you're getting OOM (out of memory) errors.\n",
    "import time\n",
    "\n",
    "NAME = f\"{SEQ_LEN}-SEQ-{FUTURE_PERIOD_PREDICT}-PRED-{int(time.time())}\"  # a unique name for the model"
   ]
  },
  {
   "cell_type": "markdown",
   "metadata": {
    "colab_type": "text",
    "id": "goRWqxUKxall"
   },
   "source": [
    "# Step 3 - Build our model (The Transformer)\n"
   ]
  },
  {
   "cell_type": "code",
   "execution_count": 28,
   "metadata": {
    "colab": {},
    "colab_type": "code",
    "id": "7s5HTXF9xall"
   },
   "outputs": [],
   "source": [
    "embed_size = 60\n",
    "class LayerNormalization(Layer):\n",
    "    def __init__(self, eps=1e-6, **kwargs):\n",
    "        self.eps = eps\n",
    "        super(LayerNormalization, self).__init__(**kwargs)\n",
    "    def build(self, input_shape):\n",
    "        self.gamma = self.add_weight(name='gamma', shape=input_shape[-1:],\n",
    "                                     initializer=Ones(), trainable=True)\n",
    "        self.beta = self.add_weight(name='beta', shape=input_shape[-1:],\n",
    "                                    initializer=Zeros(), trainable=True)\n",
    "        super(LayerNormalization, self).build(input_shape)\n",
    "    def call(self, x):\n",
    "        mean = K.mean(x, axis=-1, keepdims=True)\n",
    "        std = K.std(x, axis=-1, keepdims=True)\n",
    "        return self.gamma * (x - mean) / (std + self.eps) + self.beta\n",
    "    def compute_output_shape(self, input_shape):\n",
    "        return input_shape\n",
    "\n",
    "class ScaledDotProductAttention():\n",
    "    def __init__(self, d_model, attn_dropout=0.1):\n",
    "        self.temper = np.sqrt(d_model)\n",
    "        self.dropout = Dropout(attn_dropout)\n",
    "    def __call__(self, q, k, v, mask):\n",
    "        attn = Lambda(lambda x:K.batch_dot(x[0],x[1],axes=[2,2])/self.temper)([q, k])\n",
    "        if mask is not None:\n",
    "            mmask = Lambda(lambda x:(-1e+10)*(1-x))(mask)\n",
    "            attn = Add()([attn, mmask])\n",
    "        attn = Activation('softmax')(attn)\n",
    "        attn = self.dropout(attn)\n",
    "        output = Lambda(lambda x:K.batch_dot(x[0], x[1]))([attn, v])\n",
    "        return output, attn\n",
    "\n",
    "class MultiHeadAttention():\n",
    "    # mode 0 - big martixes, faster; mode 1 - more clear implementation\n",
    "    def __init__(self, n_head, d_model, d_k, d_v, dropout, mode=0, use_norm=True):\n",
    "        self.mode = mode\n",
    "        self.n_head = n_head\n",
    "        self.d_k = d_k\n",
    "        self.d_v = d_v\n",
    "        self.dropout = dropout\n",
    "        if mode == 0:\n",
    "            self.qs_layer = Dense(n_head*d_k, use_bias=False)\n",
    "            self.ks_layer = Dense(n_head*d_k, use_bias=False)\n",
    "            self.vs_layer = Dense(n_head*d_v, use_bias=False)\n",
    "        elif mode == 1:\n",
    "            self.qs_layers = []\n",
    "            self.ks_layers = []\n",
    "            self.vs_layers = []\n",
    "            for _ in range(n_head):\n",
    "                self.qs_layers.append(TimeDistributed(Dense(d_k, use_bias=False)))\n",
    "                self.ks_layers.append(TimeDistributed(Dense(d_k, use_bias=False)))\n",
    "                self.vs_layers.append(TimeDistributed(Dense(d_v, use_bias=False)))\n",
    "        self.attention = ScaledDotProductAttention(d_model)\n",
    "        self.layer_norm = LayerNormalization() if use_norm else None\n",
    "        self.w_o = TimeDistributed(Dense(d_model))\n",
    "\n",
    "    def __call__(self, q, k, v, mask=None):\n",
    "        d_k, d_v = self.d_k, self.d_v\n",
    "        n_head = self.n_head\n",
    "\n",
    "        if self.mode == 0:\n",
    "            qs = self.qs_layer(q)  # [batch_size, len_q, n_head*d_k]\n",
    "            ks = self.ks_layer(k)\n",
    "            vs = self.vs_layer(v)\n",
    "\n",
    "            def reshape1(x):\n",
    "                s = tf.shape(x)   # [batch_size, len_q, n_head * d_k]\n",
    "                x = tf.reshape(x, [s[0], s[1], n_head, d_k])\n",
    "                x = tf.transpose(x, [2, 0, 1, 3])  \n",
    "                x = tf.reshape(x, [-1, s[1], d_k])  # [n_head * batch_size, len_q, d_k]\n",
    "                return x\n",
    "            qs = Lambda(reshape1)(qs)\n",
    "            ks = Lambda(reshape1)(ks)\n",
    "            vs = Lambda(reshape1)(vs)\n",
    "\n",
    "            if mask is not None:\n",
    "                mask = Lambda(lambda x:K.repeat_elements(x, n_head, 0))(mask)\n",
    "            head, attn = self.attention(qs, ks, vs, mask=mask)  \n",
    "                \n",
    "            def reshape2(x):\n",
    "                s = tf.shape(x)   # [n_head * batch_size, len_v, d_v]\n",
    "                x = tf.reshape(x, [n_head, -1, s[1], s[2]]) \n",
    "                x = tf.transpose(x, [1, 2, 0, 3])\n",
    "                x = tf.reshape(x, [-1, s[1], n_head*d_v])  # [batch_size, len_v, n_head * d_v]\n",
    "                return x\n",
    "            head = Lambda(reshape2)(head)\n",
    "        elif self.mode == 1:\n",
    "            heads = []; attns = []\n",
    "            for i in range(n_head):\n",
    "                qs = self.qs_layers[i](q)   \n",
    "                ks = self.ks_layers[i](k) \n",
    "                vs = self.vs_layers[i](v) \n",
    "                head, attn = self.attention(qs, ks, vs, mask)\n",
    "                heads.append(head); attns.append(attn)\n",
    "            head = Concatenate()(heads) if n_head > 1 else heads[0]\n",
    "            attn = Concatenate()(attns) if n_head > 1 else attns[0]\n",
    "\n",
    "        outputs = self.w_o(head)\n",
    "        outputs = Dropout(self.dropout)(outputs)\n",
    "        if not self.layer_norm: return outputs, attn\n",
    "#         outputs = Add()([outputs, q])\n",
    "        #outputs = tf.add(outputs, q)#([outputs, q]) # sl: fix\n",
    "        return self.layer_norm(outputs), attn\n",
    "\n",
    "class PositionwiseFeedForward():\n",
    "    def __init__(self, d_hid, d_inner_hid, dropout=0.1):\n",
    "        self.w_1 = Conv1D(d_inner_hid, 1, activation='relu')\n",
    "        self.w_2 = Conv1D(d_hid, 1)\n",
    "        self.layer_norm = LayerNormalization()\n",
    "        self.dropout = Dropout(dropout)\n",
    "    def __call__(self, x):\n",
    "        output = self.w_1(x) \n",
    "        output = self.w_2(output)\n",
    "        output = self.dropout(output)\n",
    "        output = Add()([output, x])\n",
    "        return self.layer_norm(output)\n",
    "\n",
    "# class EncoderLayer():\n",
    "#     def __init__(self, d_model, d_inner_hid, n_head, d_k, d_v, dropout=0.1):\n",
    "#         self.self_att_layer = MultiHeadAttention(n_head, d_model, d_k, d_v, dropout=dropout)\n",
    "#         self.pos_ffn_layer  = PositionwiseFeedForward(d_model, d_inner_hid, dropout=dropout)\n",
    "#     def __call__(self, enc_input, mask=None):\n",
    "#         output, slf_attn = self.self_att_layer(enc_input, enc_input, enc_input, mask=mask)\n",
    "#         output = self.pos_ffn_layer(output)\n",
    "#         return output, slf_attn\n",
    "\n",
    "\n",
    "def GetPosEncodingMatrix(max_len, d_emb):\n",
    "    pos_enc = np.array([\n",
    "        [pos / np.power(10000, 2 * (j // 2) / d_emb) for j in range(d_emb)] \n",
    "        if pos != 0 else np.zeros(d_emb) \n",
    "            for pos in range(max_len)\n",
    "            ])\n",
    "    pos_enc[1:, 0::2] = np.sin(pos_enc[1:, 0::2]) # dim 2i\n",
    "    pos_enc[1:, 1::2] = np.cos(pos_enc[1:, 1::2]) # dim 2i+1\n",
    "    return pos_enc\n",
    "\n",
    "def GetPadMask(q, k):\n",
    "    ones = K.expand_dims(K.ones_like(q, 'float32'), -1)\n",
    "    mask = K.cast(K.expand_dims(K.not_equal(k, 0), 1), 'float32')\n",
    "    mask = K.batch_dot(ones, mask, axes=[2,1])\n",
    "    return mask\n",
    "\n",
    "def GetSubMask(s):\n",
    "    len_s = tf.shape(s)[1]\n",
    "    bs = tf.shape(s)[:1]\n",
    "    mask = K.cumsum(tf.eye(len_s, batch_shape=bs), 1)\n",
    "    return mask\n",
    "\n",
    "class Transformer():\n",
    "    def __init__(self, len_limit, embedding_matrix, d_model=embed_size, \\\n",
    "              d_inner_hid=512, n_head=12, d_k=64, d_v=64, layers=3, dropout=0.1, \\\n",
    "              share_word_emb=False, **kwargs):\n",
    "        self.name = 'Transformer'\n",
    "        self.len_limit = len_limit\n",
    "        self.src_loc_info = False # True # sl: fix later\n",
    "        self.d_model = d_model\n",
    "        self.decode_model = None\n",
    "        d_emb = d_model\n",
    "\n",
    "        pos_emb = Embedding(len_limit, d_emb, trainable=False, \\\n",
    "                            weights=[GetPosEncodingMatrix(len_limit, d_emb)])\n",
    "\n",
    "        i_word_emb = Embedding(max_features, d_emb, weights=[embedding_matrix]) # Add Kaggle provided embedding here\n",
    "\n",
    "        self.encoder = Encoder(d_model, d_inner_hid, n_head, d_k, d_v, layers, dropout, \\\n",
    "                               word_emb=i_word_emb, pos_emb=pos_emb)\n",
    "\n",
    "        \n",
    "    def get_pos_seq(self, x):\n",
    "        mask = K.cast(K.not_equal(x, 0), 'int32')\n",
    "        pos = K.cumsum(K.ones_like(x, 'int32'), 1)\n",
    "        return pos * mask\n",
    "\n",
    "    def compile(self, active_layers=999):\n",
    "        src_seq_input = Input(shape=(None, ))\n",
    "        x = Embedding(max_features, embed_size, weights=[embedding_matrix])(src_seq_input)\n",
    "        \n",
    "        # LSTM before attention layers\n",
    "        x = Bidirectional(LSTM(128, return_sequences=True))(x)\n",
    "        x = Bidirectional(LSTM(64, return_sequences=True))(x) \n",
    "        \n",
    "        x, slf_attn = MultiHeadAttention(n_head=3, d_model=300, d_k=64, d_v=64, dropout=0.1)(x, x, x)\n",
    "        \n",
    "        avg_pool = GlobalAveragePooling1D()(x)\n",
    "        max_pool = GlobalMaxPooling1D()(x)\n",
    "        conc = concatenate([avg_pool, max_pool])\n",
    "        conc = Dense(64, activation=\"relu\")(conc)\n",
    "        x = Dense(1, activation=\"sigmoid\")(conc)   \n",
    "        \n",
    "        \n",
    "        self.model = Model(inputs=src_seq_input, outputs=x)\n",
    "        self.model.compile(optimizer = 'adam', loss = 'mean_squared_error', metrics=['accuracy'])\n",
    "        \n",
    "        \n",
    "    "
   ]
  },
  {
   "cell_type": "code",
   "execution_count": 29,
   "metadata": {
    "colab": {},
    "colab_type": "code",
    "id": "nLD7FxFoxalm"
   },
   "outputs": [],
   "source": [
    "def build_model():\n",
    "    inp = Input(shape = (SEQ_LEN, len(elements)))\n",
    "    \n",
    "    # LSTM before attention layers\n",
    "    x = Bidirectional(LSTM(128, return_sequences=True))(inp)\n",
    "    x = Bidirectional(LSTM(64, return_sequences=True))(x) \n",
    "        \n",
    "    x, slf_attn = MultiHeadAttention(n_head=5, d_model=300, d_k=400, d_v=400, dropout=0.2)(x, x, x) #demodel为上一层lstm的2倍        \n",
    "    avg_pool = GlobalAveragePooling1D()(x)\n",
    "    max_pool = GlobalMaxPooling1D()(x)\n",
    "    conc = concatenate([avg_pool, max_pool])\n",
    "    conc = Dense(128, activation=\"relu\")(conc)\n",
    "    \n",
    "    x, slf_attn = MultiHeadAttention(n_head=5, d_model=300, d_k=400, d_v=400, dropout=0.2)(x, x, x) #demodel为上一层lstm的2倍    \n",
    "    avg_pool = GlobalAveragePooling1D()(x)\n",
    "    max_pool = GlobalMaxPooling1D()(x)\n",
    "    conc = concatenate([avg_pool, max_pool])\n",
    "    conc = Dense(64, activation=\"relu\")(conc)\n",
    "    \n",
    "#     x, slf_attn = MultiHeadAttention(n_head=1, d_model=128, d_k=64, d_v=64, dropout=0.5)(x, x, x) #demodel为上一层lstm的2倍    \n",
    "#     avg_pool = GlobalAveragePooling1D()(x)\n",
    "#     max_pool = GlobalMaxPooling1D()(x)\n",
    "#     conc = concatenate([avg_pool, max_pool])\n",
    "#     conc = Dense(64, activation=\"relu\")(conc)\n",
    "    \n",
    "    \n",
    "    conc = Dense(128, activation=\"relu\")(conc)\n",
    "    x = Dense(1, activation=\"sigmoid\")(conc)  \n",
    "    \n",
    "\n",
    "    model = Model(inputs = inp, outputs = x)\n",
    "    model.compile(\n",
    "        loss = \"mean_squared_error\",\n",
    "#         optimizer = \"adam\")\n",
    "#         loss = \"mean_squared_error\", \n",
    "        optimizer = tf.keras.optimizers.Adam() )\n",
    "#         optimizer = \"adam\")\n",
    "    \n",
    "    # Save entire model to a HDF5 file\n",
    "     #model.save('GE_stock_price_model.h5')\n",
    "    \n",
    "    return model"
   ]
  },
  {
   "cell_type": "code",
   "execution_count": 30,
   "metadata": {
    "colab": {
     "base_uri": "https://localhost:8080/",
     "height": 190
    },
    "colab_type": "code",
    "id": "_K9Kk4BMxaln",
    "outputId": "9f214579-2f35-4dfb-f869-a6c17df932b1"
   },
   "outputs": [],
   "source": [
    "multi_head = build_model()"
   ]
  },
  {
   "cell_type": "code",
   "execution_count": 31,
   "metadata": {
    "colab": {
     "base_uri": "https://localhost:8080/",
     "height": 935
    },
    "colab_type": "code",
    "id": "ZvzB_DR4xalo",
    "outputId": "a20175c5-2a61-483a-b5f6-c96ab4231f75"
   },
   "outputs": [
    {
     "name": "stdout",
     "output_type": "stream",
     "text": [
      "Model: \"model\"\n",
      "__________________________________________________________________________________________________\n",
      " Layer (type)                   Output Shape         Param #     Connected to                     \n",
      "==================================================================================================\n",
      " input_1 (InputLayer)           [(None, 5, 6)]       0           []                               \n",
      "                                                                                                  \n",
      " bidirectional (Bidirectional)  (None, 5, 256)       138240      ['input_1[0][0]']                \n",
      "                                                                                                  \n",
      " bidirectional_1 (Bidirectional  (None, 5, 128)      164352      ['bidirectional[0][0]']          \n",
      " )                                                                                                \n",
      "                                                                                                  \n",
      " dense (Dense)                  (None, 5, 2000)      256000      ['bidirectional_1[0][0]']        \n",
      "                                                                                                  \n",
      " dense_1 (Dense)                (None, 5, 2000)      256000      ['bidirectional_1[0][0]']        \n",
      "                                                                                                  \n",
      " lambda (Lambda)                (None, 5, 400)       0           ['dense[0][0]']                  \n",
      "                                                                                                  \n",
      " lambda_1 (Lambda)              (None, 5, 400)       0           ['dense_1[0][0]']                \n",
      "                                                                                                  \n",
      " lambda_3 (Lambda)              (None, 5, 5)         0           ['lambda[0][0]',                 \n",
      "                                                                  'lambda_1[0][0]']               \n",
      "                                                                                                  \n",
      " activation (Activation)        (None, 5, 5)         0           ['lambda_3[0][0]']               \n",
      "                                                                                                  \n",
      " dense_2 (Dense)                (None, 5, 2000)      256000      ['bidirectional_1[0][0]']        \n",
      "                                                                                                  \n",
      " dropout (Dropout)              (None, 5, 5)         0           ['activation[0][0]']             \n",
      "                                                                                                  \n",
      " lambda_2 (Lambda)              (None, 5, 400)       0           ['dense_2[0][0]']                \n",
      "                                                                                                  \n",
      " lambda_4 (Lambda)              (None, 5, 400)       0           ['dropout[0][0]',                \n",
      "                                                                  'lambda_2[0][0]']               \n",
      "                                                                                                  \n",
      " lambda_5 (Lambda)              (None, 5, 2000)      0           ['lambda_4[0][0]']               \n",
      "                                                                                                  \n",
      " time_distributed (TimeDistribu  (None, 5, 300)      600300      ['lambda_5[0][0]']               \n",
      " ted)                                                                                             \n",
      "                                                                                                  \n",
      " dropout_1 (Dropout)            (None, 5, 300)       0           ['time_distributed[0][0]']       \n",
      "                                                                                                  \n",
      " dense_5 (Dense)                (None, 5, 2000)      600000      ['layer_normalization[0][0]']    \n",
      "                                                                                                  \n",
      " dense_6 (Dense)                (None, 5, 2000)      600000      ['layer_normalization[0][0]']    \n",
      "                                                                                                  \n",
      " lambda_6 (Lambda)              (None, 5, 400)       0           ['dense_5[0][0]']                \n",
      "                                                                                                  \n",
      " lambda_7 (Lambda)              (None, 5, 400)       0           ['dense_6[0][0]']                \n",
      "                                                                                                  \n",
      " lambda_9 (Lambda)              (None, 5, 5)         0           ['lambda_6[0][0]',               \n",
      "                                                                  'lambda_7[0][0]']               \n",
      "                                                                                                  \n",
      " activation_1 (Activation)      (None, 5, 5)         0           ['lambda_9[0][0]']               \n",
      "                                                                                                  \n",
      " dense_7 (Dense)                (None, 5, 2000)      600000      ['layer_normalization[0][0]']    \n",
      "                                                                                                  \n",
      " dropout_2 (Dropout)            (None, 5, 5)         0           ['activation_1[0][0]']           \n",
      "                                                                                                  \n",
      " lambda_8 (Lambda)              (None, 5, 400)       0           ['dense_7[0][0]']                \n",
      "                                                                                                  \n",
      " lambda_10 (Lambda)             (None, 5, 400)       0           ['dropout_2[0][0]',              \n",
      "                                                                  'lambda_8[0][0]']               \n",
      "                                                                                                  \n",
      " lambda_11 (Lambda)             (None, 5, 2000)      0           ['lambda_10[0][0]']              \n",
      "                                                                                                  \n",
      " time_distributed_1 (TimeDistri  (None, 5, 300)      600300      ['lambda_11[0][0]']              \n",
      " buted)                                                                                           \n",
      "                                                                                                  \n",
      " dropout_3 (Dropout)            (None, 5, 300)       0           ['time_distributed_1[0][0]']     \n",
      "                                                                                                  \n",
      " global_average_pooling1d_1 (Gl  (None, 300)         0           ['layer_normalization_1[0][0]']  \n",
      " obalAveragePooling1D)                                                                            \n",
      "                                                                                                  \n",
      " global_max_pooling1d_1 (Global  (None, 300)         0           ['layer_normalization_1[0][0]']  \n",
      " MaxPooling1D)                                                                                    \n",
      "                                                                                                  \n",
      " concatenate_1 (Concatenate)    (None, 600)          0           ['global_average_pooling1d_1[0][0\n",
      "                                                                 ]',                              \n",
      "                                                                  'global_max_pooling1d_1[0][0]'] \n",
      "                                                                                                  \n",
      " dense_9 (Dense)                (None, 64)           38464       ['concatenate_1[0][0]']          \n",
      "                                                                                                  \n",
      " dense_10 (Dense)               (None, 128)          8320        ['dense_9[0][0]']                \n",
      "                                                                                                  \n",
      " dense_11 (Dense)               (None, 1)            129         ['dense_10[0][0]']               \n",
      "                                                                                                  \n",
      "==================================================================================================\n",
      "Total params: 4,119,305\n",
      "Trainable params: 4,119,305\n",
      "Non-trainable params: 0\n",
      "__________________________________________________________________________________________________\n"
     ]
    }
   ],
   "source": [
    "multi_head.summary()"
   ]
  },
  {
   "cell_type": "code",
   "execution_count": 34,
   "metadata": {},
   "outputs": [],
   "source": [
    "import keras\n",
    "keras.backend.get_session().run(tf.compat.v1.global_variables_initializer())"
   ]
  },
  {
   "cell_type": "code",
   "execution_count": null,
   "metadata": {
    "colab": {
     "base_uri": "https://localhost:8080/",
     "height": 513
    },
    "colab_type": "code",
    "id": "uYTI8rxqxalp",
    "outputId": "5de43d71-0e83-4d6d-c59b-cb44851ad374"
   },
   "outputs": [
    {
     "name": "stdout",
     "output_type": "stream",
     "text": [
      "Train on 6597 samples, validate on 362 samples\n",
      "Epoch 1/100\n",
      "6597/6597 [==============================] - ETA: 0s - loss: 0.1128"
     ]
    },
    {
     "name": "stderr",
     "output_type": "stream",
     "text": [
      "D:\\anaconda\\lib\\site-packages\\keras\\engine\\training_v1.py:2057: UserWarning: `Model.state_updates` will be removed in a future version. This property should not be used in TensorFlow 2.0, as `updates` are applied automatically.\n",
      "  updates = self.state_updates\n"
     ]
    },
    {
     "name": "stdout",
     "output_type": "stream",
     "text": [
      "6597/6597 [==============================] - 6s 932us/sample - loss: 0.1128 - val_loss: 0.0038\n",
      "Epoch 2/100\n",
      "6597/6597 [==============================] - 5s 779us/sample - loss: 0.0106 - val_loss: 0.0073\n",
      "Epoch 3/100\n",
      "6597/6597 [==============================] - 5s 761us/sample - loss: 0.0058 - val_loss: 0.0018\n",
      "Epoch 4/100\n",
      "6597/6597 [==============================] - 5s 765us/sample - loss: 0.0045 - val_loss: 0.0036\n",
      "Epoch 5/100\n",
      "6597/6597 [==============================] - 5s 774us/sample - loss: 0.0037 - val_loss: 0.0043\n",
      "Epoch 6/100\n",
      "6597/6597 [==============================] - 5s 771us/sample - loss: 0.0030 - val_loss: 0.0038\n",
      "Epoch 7/100\n",
      "6597/6597 [==============================] - 5s 770us/sample - loss: 0.0021 - val_loss: 0.0037\n",
      "Epoch 8/100\n",
      "6597/6597 [==============================] - 5s 769us/sample - loss: 0.0014 - val_loss: 0.0034\n",
      "Epoch 9/100\n",
      "6597/6597 [==============================] - 5s 769us/sample - loss: 8.3481e-04 - val_loss: 0.0031\n",
      "Epoch 10/100\n",
      "6597/6597 [==============================] - 5s 791us/sample - loss: 5.0123e-04 - val_loss: 0.0033\n",
      "Epoch 11/100\n",
      "6597/6597 [==============================] - 5s 784us/sample - loss: 3.4762e-04 - val_loss: 0.0035\n",
      "Epoch 12/100\n",
      "6597/6597 [==============================] - 5s 773us/sample - loss: 2.9820e-04 - val_loss: 0.0019\n",
      "Epoch 13/100\n",
      "6597/6597 [==============================] - 5s 758us/sample - loss: 2.8937e-04 - val_loss: 0.0027\n",
      "Epoch 14/100\n",
      "6597/6597 [==============================] - 5s 761us/sample - loss: 2.6906e-04 - val_loss: 0.0031\n",
      "Epoch 15/100\n",
      "6597/6597 [==============================] - 5s 772us/sample - loss: 2.5541e-04 - val_loss: 0.0012\n",
      "Epoch 16/100\n",
      "6597/6597 [==============================] - 5s 776us/sample - loss: 2.6424e-04 - val_loss: 4.7001e-04\n",
      "Epoch 17/100\n",
      "6597/6597 [==============================] - 5s 811us/sample - loss: 2.4049e-04 - val_loss: 0.0012\n",
      "Epoch 18/100\n",
      "6597/6597 [==============================] - 5s 772us/sample - loss: 2.1070e-04 - val_loss: 0.0015\n",
      "Epoch 19/100\n",
      "6597/6597 [==============================] - 5s 780us/sample - loss: 2.0564e-04 - val_loss: 0.0019\n",
      "Epoch 20/100\n",
      "6597/6597 [==============================] - 5s 792us/sample - loss: 2.0490e-04 - val_loss: 8.5235e-04\n",
      "Epoch 21/100\n",
      "6597/6597 [==============================] - 5s 813us/sample - loss: 2.0472e-04 - val_loss: 0.0016\n",
      "Epoch 22/100\n",
      "6597/6597 [==============================] - 6s 843us/sample - loss: 1.9943e-04 - val_loss: 5.2667e-04\n",
      "Epoch 23/100\n",
      "6597/6597 [==============================] - 5s 787us/sample - loss: 1.8470e-04 - val_loss: 0.0011\n",
      "Epoch 24/100\n",
      "6597/6597 [==============================] - 5s 769us/sample - loss: 1.7195e-04 - val_loss: 8.3962e-04\n",
      "Epoch 25/100\n",
      "6597/6597 [==============================] - 5s 780us/sample - loss: 1.7360e-04 - val_loss: 0.0014\n",
      "Epoch 26/100\n",
      "6597/6597 [==============================] - 5s 767us/sample - loss: 1.6145e-04 - val_loss: 0.0015\n",
      "Epoch 27/100\n",
      "6597/6597 [==============================] - 5s 784us/sample - loss: 1.7367e-04 - val_loss: 5.9543e-04\n",
      "Epoch 28/100\n",
      "6597/6597 [==============================] - 5s 780us/sample - loss: 1.6107e-04 - val_loss: 3.7994e-04\n",
      "Epoch 29/100\n",
      "6597/6597 [==============================] - 5s 774us/sample - loss: 1.5907e-04 - val_loss: 3.8337e-04\n",
      "Epoch 30/100\n",
      "6597/6597 [==============================] - 5s 769us/sample - loss: 1.6627e-04 - val_loss: 0.0012\n",
      "Epoch 31/100\n",
      "6597/6597 [==============================] - 5s 779us/sample - loss: 1.6066e-04 - val_loss: 7.0458e-04\n",
      "Epoch 32/100\n",
      "6597/6597 [==============================] - 5s 780us/sample - loss: 1.4242e-04 - val_loss: 4.8780e-04\n",
      "Epoch 33/100\n",
      "6597/6597 [==============================] - 5s 779us/sample - loss: 1.4131e-04 - val_loss: 2.3628e-04\n",
      "Epoch 34/100\n",
      "6597/6597 [==============================] - 5s 764us/sample - loss: 1.3098e-04 - val_loss: 5.3507e-04\n",
      "Epoch 35/100\n",
      "6597/6597 [==============================] - 5s 772us/sample - loss: 1.2957e-04 - val_loss: 4.4504e-04\n",
      "Epoch 36/100\n",
      "6597/6597 [==============================] - 5s 780us/sample - loss: 1.4172e-04 - val_loss: 0.0011\n",
      "Epoch 37/100\n",
      "6597/6597 [==============================] - 5s 807us/sample - loss: 1.3743e-04 - val_loss: 4.4356e-04\n",
      "Epoch 38/100\n",
      "6597/6597 [==============================] - 6s 890us/sample - loss: 1.3890e-04 - val_loss: 6.2291e-04\n",
      "Epoch 39/100\n",
      "6597/6597 [==============================] - 5s 816us/sample - loss: 1.2049e-04 - val_loss: 5.6480e-04\n",
      "Epoch 40/100\n",
      "6597/6597 [==============================] - 5s 805us/sample - loss: 1.1282e-04 - val_loss: 1.6983e-04\n",
      "Epoch 41/100\n",
      "6597/6597 [==============================] - 5s 804us/sample - loss: 1.1644e-04 - val_loss: 7.0794e-05\n",
      "Epoch 42/100\n",
      "6597/6597 [==============================] - 5s 798us/sample - loss: 1.1520e-04 - val_loss: 1.0535e-04\n",
      "Epoch 43/100\n",
      "6597/6597 [==============================] - 5s 803us/sample - loss: 1.1464e-04 - val_loss: 7.3092e-04\n",
      "Epoch 44/100\n",
      "6597/6597 [==============================] - 5s 807us/sample - loss: 1.4456e-04 - val_loss: 3.3280e-04\n",
      "Epoch 45/100\n",
      "6597/6597 [==============================] - 5s 788us/sample - loss: 1.2892e-04 - val_loss: 2.6438e-04\n",
      "Epoch 46/100\n",
      "6597/6597 [==============================] - 5s 788us/sample - loss: 1.1410e-04 - val_loss: 5.0928e-04\n",
      "Epoch 47/100\n",
      "6597/6597 [==============================] - 5s 788us/sample - loss: 1.1503e-04 - val_loss: 2.0947e-05\n",
      "Epoch 48/100\n",
      "6597/6597 [==============================] - 5s 810us/sample - loss: 1.2302e-04 - val_loss: 6.7862e-04\n",
      "Epoch 49/100\n",
      "6597/6597 [==============================] - 5s 794us/sample - loss: 1.1116e-04 - val_loss: 2.5046e-05\n",
      "Epoch 50/100\n",
      "6597/6597 [==============================] - 5s 791us/sample - loss: 1.1714e-04 - val_loss: 5.0629e-05\n",
      "Epoch 51/100\n",
      "6597/6597 [==============================] - 5s 787us/sample - loss: 9.4747e-05 - val_loss: 5.0297e-04\n",
      "Epoch 52/100\n",
      "6597/6597 [==============================] - 5s 794us/sample - loss: 1.0914e-04 - val_loss: 1.7022e-04\n",
      "Epoch 53/100\n",
      "6597/6597 [==============================] - 5s 790us/sample - loss: 1.3367e-04 - val_loss: 2.1161e-05\n",
      "Epoch 54/100\n",
      "6597/6597 [==============================] - 5s 809us/sample - loss: 1.1461e-04 - val_loss: 4.2796e-05\n",
      "Epoch 55/100\n",
      "6597/6597 [==============================] - 5s 807us/sample - loss: 1.0307e-04 - val_loss: 2.2493e-04\n",
      "Epoch 56/100\n",
      "6597/6597 [==============================] - 5s 810us/sample - loss: 9.1606e-05 - val_loss: 7.0196e-05\n",
      "Epoch 57/100\n",
      "6597/6597 [==============================] - 5s 773us/sample - loss: 9.5187e-05 - val_loss: 3.4809e-05\n",
      "Epoch 58/100\n",
      "6597/6597 [==============================] - 5s 773us/sample - loss: 9.7858e-05 - val_loss: 1.4586e-04\n",
      "Epoch 59/100\n",
      "6597/6597 [==============================] - 5s 828us/sample - loss: 8.5963e-05 - val_loss: 2.0056e-04\n",
      "Epoch 60/100\n",
      "6597/6597 [==============================] - 5s 810us/sample - loss: 8.8965e-05 - val_loss: 2.1034e-05\n",
      "Epoch 61/100\n",
      "6597/6597 [==============================] - 5s 764us/sample - loss: 8.9136e-05 - val_loss: 5.6347e-05\n",
      "Epoch 62/100\n",
      "6597/6597 [==============================] - 5s 794us/sample - loss: 8.8459e-05 - val_loss: 6.9815e-05\n",
      "Epoch 63/100\n",
      "6597/6597 [==============================] - 5s 790us/sample - loss: 8.8548e-05 - val_loss: 1.4692e-04\n",
      "Epoch 64/100\n",
      "6597/6597 [==============================] - 5s 789us/sample - loss: 8.2800e-05 - val_loss: 2.1972e-05\n",
      "Epoch 65/100\n",
      "6597/6597 [==============================] - 6s 835us/sample - loss: 1.0498e-04 - val_loss: 9.3812e-06\n",
      "Epoch 66/100\n",
      "6597/6597 [==============================] - 5s 813us/sample - loss: 1.2439e-04 - val_loss: 6.0729e-05\n",
      "Epoch 67/100\n",
      "6597/6597 [==============================] - 5s 783us/sample - loss: 1.0277e-04 - val_loss: 8.2818e-06\n",
      "Epoch 68/100\n",
      "6597/6597 [==============================] - 5s 764us/sample - loss: 7.7713e-05 - val_loss: 1.9924e-05\n",
      "Epoch 69/100\n",
      "6597/6597 [==============================] - 5s 757us/sample - loss: 1.1244e-04 - val_loss: 3.0446e-04\n",
      "Epoch 70/100\n",
      "6597/6597 [==============================] - 5s 757us/sample - loss: 1.3568e-04 - val_loss: 8.9782e-05\n",
      "Epoch 71/100\n",
      "6597/6597 [==============================] - 5s 770us/sample - loss: 1.3809e-04 - val_loss: 1.4676e-05\n",
      "Epoch 72/100\n",
      "6597/6597 [==============================] - 5s 823us/sample - loss: 9.9547e-05 - val_loss: 9.4477e-06\n",
      "Epoch 73/100\n",
      "6597/6597 [==============================] - 5s 809us/sample - loss: 1.0337e-04 - val_loss: 2.2367e-05\n",
      "Epoch 74/100\n",
      "6597/6597 [==============================] - 5s 772us/sample - loss: 1.1336e-04 - val_loss: 2.2913e-04\n",
      "Epoch 75/100\n",
      "6597/6597 [==============================] - 5s 802us/sample - loss: 1.0238e-04 - val_loss: 1.6143e-04\n",
      "Epoch 76/100\n",
      "6597/6597 [==============================] - 5s 786us/sample - loss: 7.4909e-05 - val_loss: 1.2597e-04\n",
      "Epoch 77/100\n",
      "6597/6597 [==============================] - 5s 779us/sample - loss: 6.1736e-05 - val_loss: 1.0002e-04\n",
      "Epoch 78/100\n",
      "6597/6597 [==============================] - 5s 766us/sample - loss: 7.1715e-05 - val_loss: 9.4458e-06\n",
      "Epoch 79/100\n",
      "6597/6597 [==============================] - 5s 780us/sample - loss: 6.9531e-05 - val_loss: 1.1358e-04\n",
      "Epoch 80/100\n",
      "6597/6597 [==============================] - 5s 783us/sample - loss: 6.4314e-05 - val_loss: 6.1545e-05\n",
      "Epoch 81/100\n",
      "6597/6597 [==============================] - 6s 835us/sample - loss: 8.0886e-05 - val_loss: 6.7884e-05\n",
      "Epoch 82/100\n",
      "6597/6597 [==============================] - 5s 811us/sample - loss: 6.5150e-05 - val_loss: 2.8384e-05\n",
      "Epoch 83/100\n",
      "6597/6597 [==============================] - 6s 862us/sample - loss: 9.9129e-05 - val_loss: 1.4890e-04\n",
      "Epoch 84/100\n",
      "6597/6597 [==============================] - 6s 835us/sample - loss: 1.6433e-04 - val_loss: 3.7740e-04\n",
      "Epoch 85/100\n",
      "4608/6597 [===================>..........] - ETA: 1s - loss: 7.8106e-05"
     ]
    }
   ],
   "source": [
    "import time\n",
    "import datetime\n",
    "\n",
    "start = time.time()\n",
    "\n",
    "multi_head.fit(X_train, y_train,\n",
    "                    batch_size=BATCH_SIZE,\n",
    "                    epochs=EPOCHS,\n",
    "                    validation_data=(X_valid, y_valid), \n",
    "                    #callbacks = [checkpoint , lr_reduce]\n",
    "             )\n",
    "\n",
    "end = time.time()\n",
    "\n",
    "elapsed = end - start\n",
    "print(datetime.timedelta(seconds=elapsed))"
   ]
  },
  {
   "cell_type": "code",
   "execution_count": null,
   "metadata": {
    "colab": {},
    "colab_type": "code",
    "id": "Erbt8lyH0kq2"
   },
   "outputs": [],
   "source": [
    "model = multi_head"
   ]
  },
  {
   "cell_type": "code",
   "execution_count": null,
   "metadata": {
    "colab": {
     "base_uri": "https://localhost:8080/",
     "height": 34
    },
    "colab_type": "code",
    "id": "87b3dFT2xalr",
    "outputId": "04b52ee5-9a8d-4475-c06c-d8d458368036"
   },
   "outputs": [],
   "source": [
    "predicted_stock_price_multi_head = multi_head.predict(X_test)"
   ]
  },
  {
   "cell_type": "code",
   "execution_count": null,
   "metadata": {},
   "outputs": [],
   "source": [
    "predicted_stock_price_multi_head.shape"
   ]
  },
  {
   "cell_type": "code",
   "execution_count": null,
   "metadata": {},
   "outputs": [],
   "source": [
    "predicted_stock_price_multi_head = ss_Y.inverse_transform(predicted_stock_price_multi_head)"
   ]
  },
  {
   "cell_type": "code",
   "execution_count": null,
   "metadata": {},
   "outputs": [],
   "source": [
    "y_test = ss_Y.inverse_transform(y_test.reshape(-1, 1))"
   ]
  },
  {
   "cell_type": "code",
   "execution_count": null,
   "metadata": {},
   "outputs": [],
   "source": [
    "# y_test = y_test - np.array(pa['IMF5'][-361:]/10).reshape(-1,1)\n",
    "# predicted_stock_price_multi_head = predicted_stock_price_multi_head - np.array(pa['IMF5'][-361:]/10).reshape(-1,1)"
   ]
  },
  {
   "cell_type": "code",
   "execution_count": null,
   "metadata": {
    "colab": {
     "base_uri": "https://localhost:8080/",
     "height": 580
    },
    "colab_type": "code",
    "id": "9UgEoi4jxalt",
    "outputId": "d36191b9-193c-48af-c046-51a26a096631"
   },
   "outputs": [],
   "source": [
    "plt.figure(figsize = (12,5))\n",
    "plt.plot(y_test, color = 'r', label = 'true')\n",
    "plt.plot(predicted_stock_price_multi_head, color = 'b', label = 'predict')\n",
    "# plt.plot(np.arange(5,773),test_data, color = 'r', label = 'GE Stock Price')\n",
    "# plt.plot(np.arange(0,733),predicted_stock_price_multi_head, color = 'b', label = 'Predicted GE Close Price')\n",
    "# plt.title('GE Close Price Prediction', fontsize=30)\n",
    "#plt.xticks(range(0,df.shape[0],50),df['Date'].loc[::50],rotation=45)\n",
    "# plt.xlabel('Date')\n",
    "# plt.ylabel('GE Close Price')\n",
    "plt.title('LSTM_Transformer')\n",
    "plt.legend()\n",
    "plt.show()"
   ]
  },
  {
   "cell_type": "code",
   "execution_count": null,
   "metadata": {},
   "outputs": [],
   "source": [
    "from sklearn.metrics import mean_squared_error, r2_score\n",
    "\n",
    "def reg_calculate(test_label1, test_pred1, features=None):\n",
    "\n",
    "\n",
    "        # mape\n",
    "        mape = np.mean(np.abs((test_pred1 - test_label1) / test_label1))\n",
    "        # rmse\n",
    "        mse = np.sqrt(np.mean(np.square(test_pred1 - test_label1)))\n",
    "        # mae\n",
    "        mae = np.mean(np.abs(test_pred1 - test_label1))\n",
    "        # R2\n",
    "        r2 = r2_score(test_label1, test_pred1)\n",
    "\n",
    "        print(\n",
    "            \"mse: {}, mae: {}, mape: {}, r2: {}\".format(mse, mae, mape, r2))\n",
    "        return True\n"
   ]
  },
  {
   "cell_type": "code",
   "execution_count": null,
   "metadata": {},
   "outputs": [],
   "source": [
    "reg_calculate(y_test[5:-1,:], predicted_stock_price_multi_head[5:-1,:] ,test_data.shape[-1])"
   ]
  },
  {
   "cell_type": "code",
   "execution_count": null,
   "metadata": {},
   "outputs": [],
   "source": [
    "# 准备数据\n",
    "data = predicted_stock_price_multi_head[5:-1,:].reshape(-1,1)\n",
    "data_df = pd.DataFrame(data)   #关键1，将ndarray格式转换为DataFrame\n",
    "\n",
    "# 更改表的索引\n",
    "data_df.columns = ['pre_imf7_1']  \n",
    "\n",
    "# 将文件写入excel表格中\n",
    "writer = pd.ExcelWriter('pre_imf7_1.xlsx')  #关键2，创建名称为hhh的excel表格\n",
    "data_df.to_excel(writer,'page_1',float_format='%.5f')  #关键3，float_format 控制精度，将data_df写到hhh表格的第一页中。若多个文件，可以在page_2中写入\n",
    "writer.save()  #关键4"
   ]
  },
  {
   "cell_type": "code",
   "execution_count": null,
   "metadata": {},
   "outputs": [],
   "source": []
  },
  {
   "cell_type": "code",
   "execution_count": null,
   "metadata": {},
   "outputs": [],
   "source": []
  },
  {
   "cell_type": "code",
   "execution_count": null,
   "metadata": {},
   "outputs": [],
   "source": []
  },
  {
   "cell_type": "code",
   "execution_count": null,
   "metadata": {},
   "outputs": [],
   "source": []
  },
  {
   "cell_type": "markdown",
   "metadata": {},
   "source": [
    "### "
   ]
  }
 ],
 "metadata": {
  "accelerator": "GPU",
  "colab": {
   "name": "Stock Prediction usning Transformer NN.ipynb",
   "provenance": [],
   "toc_visible": true,
   "version": "0.3.2"
  },
  "kernelspec": {
   "display_name": "Python 3",
   "language": "python",
   "name": "python3"
  },
  "language_info": {
   "codemirror_mode": {
    "name": "ipython",
    "version": 3
   },
   "file_extension": ".py",
   "mimetype": "text/x-python",
   "name": "python",
   "nbconvert_exporter": "python",
   "pygments_lexer": "ipython3",
   "version": "3.8.8"
  }
 },
 "nbformat": 4,
 "nbformat_minor": 4
}
